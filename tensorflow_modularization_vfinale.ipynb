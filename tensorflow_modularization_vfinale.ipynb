{
 "cells": [
  {
   "cell_type": "code",
   "execution_count": 96,
   "metadata": {},
   "outputs": [],
   "source": [
    "import numpy as np\n",
    "import matplotlib.pyplot as plt"
   ]
  },
  {
   "cell_type": "markdown",
   "metadata": {},
   "source": [
    "Classe Boite"
   ]
  },
  {
   "cell_type": "code",
   "execution_count": 97,
   "metadata": {},
   "outputs": [],
   "source": [
    "class Boite():\n",
    "    def __init__(self):\n",
    "        pass\n",
    "    def forward (self,inputs):\n",
    "        self.inputs=inputs\n",
    "        self.output=self.operation()\n",
    "        return self.output\n",
    "    def backward (self,derive_output):\n",
    "        self.derive_output=derive_output\n",
    "        assert self.derive_output.shape==self.output.shape,f\"La derivée outputs a un shape{self.derive_output.shape}et different du shape de output {self.output.shape}\"\n",
    "        self.derive_inputs=self.gradient(derive_output)\n",
    "        assert self.derive_inputs.shape==self.inputs.shape,f\"La derivée inputs a un shape{self.derive_inputs.shape}et different du shape de input {self.inputs.shape}\"\n",
    "        return self.derive_inputs\n",
    "    def operation (self):\n",
    "        pass\n",
    "    def gradient (self,derive_output):\n",
    "        pass"
   ]
  },
  {
   "cell_type": "markdown",
   "metadata": {},
   "source": [
    "Classe Boite parametréee"
   ]
  },
  {
   "cell_type": "code",
   "execution_count": 98,
   "metadata": {},
   "outputs": [],
   "source": [
    "class BoiteParams():\n",
    "    def __init__(self,params):\n",
    "        self.params=params\n",
    "\n",
    "    def forward (self,inputs):\n",
    "        self.inputs=inputs\n",
    "        self.output=self.operation()\n",
    "        return self.output\n",
    "    \n",
    "    def backward (self,derive_output):\n",
    "        self.derive_output=derive_output\n",
    "        # assert self.derive_output.shape==self.output.shape,f\"La derivée outputs a un shape{self.derive_output.shape}et different du shape de output {self.output.shape}\"\n",
    "        #Derivee par rapport a l'input\n",
    "        self.derive_inputs=self.gradient(derive_output)\n",
    "        #assert self.derive_inputs.shape==self.inputs.shape,f\"La derivée inputs a un shape{self.derive_inputs.shape}et different du shape de input {self.inputs.shape}\"\n",
    "        #Derivee par rapport au param\n",
    "        self.derive_params=self.gradient_params(derive_output)\n",
    "        #assert self.derive_params.shape==self.params.shape,f\"La derivée params a un shape{self.derive_params.shape}et different du shape de params {self.params.shape}\"\n",
    "        return self.derive_inputs\n",
    "    \n",
    "    def operation (self):\n",
    "        pass\n",
    "    def gradient (self,derive_output):\n",
    "        pass\n",
    "    def gradient_params(self,derive_output):\n",
    "        pass"
   ]
  },
  {
   "cell_type": "markdown",
   "metadata": {},
   "source": [
    "Classe Dot"
   ]
  },
  {
   "cell_type": "code",
   "execution_count": 99,
   "metadata": {},
   "outputs": [],
   "source": [
    "class Dot(BoiteParams):\n",
    "    def __init__(self, weights):\n",
    "        super().__init__(weights)\n",
    "\n",
    "    def operation(self):\n",
    "        return np.dot(self.inputs,self.params)\n",
    "    def gradient(self,derive_output):\n",
    "        return np.dot(derive_output,self.params.T)\n",
    "    def gradient_params(self,derive_output):\n",
    "        return np.dot(self.inputs.T,derive_output)\n",
    "    def __repr__(self):\n",
    "        return \"Produit Matriciel\""
   ]
  },
  {
   "cell_type": "markdown",
   "metadata": {},
   "source": [
    "Classe Ajout biais"
   ]
  },
  {
   "cell_type": "code",
   "execution_count": 100,
   "metadata": {},
   "outputs": [],
   "source": [
    "class Add(BoiteParams):\n",
    "    def __init__(self, biais):\n",
    "        super().__init__(biais)\n",
    "\n",
    "    def operation(self):\n",
    "        return self.inputs+self.params\n",
    "    def gradient(self,derive_output):\n",
    "        return np.ones_like(self.inputs)*derive_output\n",
    "    def gradient_params(self,derive_output):\n",
    "        r=np.ones_like(self.params)*derive_output\n",
    "        return r.sum(axis=0).reshape(1,self.params.shape[1])\n",
    "    def __repr__(self):\n",
    "        return \"Ajout Biais\""
   ]
  },
  {
   "cell_type": "markdown",
   "metadata": {},
   "source": [
    "Class Sigmoid"
   ]
  },
  {
   "cell_type": "code",
   "execution_count": 101,
   "metadata": {},
   "outputs": [],
   "source": [
    "class Sigmoid(Boite):\n",
    "    def __init__(self):\n",
    "        super().__init__()\n",
    "\n",
    "    def operation(self):\n",
    "        return 1/(1+np.exp(-1*self.inputs))\n",
    "    def gradient(self,derive_output):\n",
    "        return self.output*(1-self.output)*derive_output\n",
    "    \n",
    "    def __repr__(self):\n",
    "        return \"Sigmoid\""
   ]
  },
  {
   "cell_type": "markdown",
   "metadata": {},
   "source": [
    "Class Loss"
   ]
  },
  {
   "cell_type": "code",
   "execution_count": 102,
   "metadata": {},
   "outputs": [],
   "source": [
    "class Loss:\n",
    "    def __init__(self):\n",
    "        pass\n",
    "    def forward(self,prediction,target):\n",
    "        #assert prediction.shape==target,f\"{prediction.shape}=! {target.shape}\"\n",
    "        self.prediction=prediction\n",
    "        self.target=target\n",
    "        loss=np.mean((self.target-self.prediction)**2)\n",
    "        return loss\n",
    "    def backward (self):\n",
    "        self.loss_derivee=-2*(self.target-self.prediction)\n",
    "        #assert self.loss_derivee.shape==self.prediction.shape\n",
    "        return self.loss_derivee"
   ]
  },
  {
   "cell_type": "markdown",
   "metadata": {},
   "source": [
    "Classe Dense"
   ]
  },
  {
   "cell_type": "code",
   "execution_count": 103,
   "metadata": {},
   "outputs": [],
   "source": [
    "class Dense:\n",
    "    def __init__(self,neurons,activation=None):\n",
    "        self.neurons=neurons\n",
    "        self.activation=activation\n",
    "        self.params=[]\n",
    "        self.suite=[]\n",
    "        self.initialisation=True\n",
    "        self.derivee_params=[]\n",
    "    \n",
    "    def build(self,inputs):\n",
    "        \n",
    "        #Weights initialization\n",
    "        self.weights=np.random.randn(inputs.shape[1],self.neurons)\n",
    "        self.biais=np.random.randn(1,self.neurons)\n",
    "        self.params.append(self.weights)\n",
    "        self.params.append(self.biais)\n",
    "\n",
    "        #Suite d'operations\n",
    "\n",
    "        self.suite=[Dot(weights=self.params[0]),Add(biais=self.params[1])]\n",
    "        if self.activation:\n",
    "            self.suite.append(self.activation)\n",
    "\n",
    "    \n",
    "    def forward(self,inputs):\n",
    "        if self.initialisation:\n",
    "            self.initialisation=False\n",
    "            self.build(inputs)\n",
    "            \n",
    "\n",
    "        for boite in self.suite:\n",
    "            inputs=boite.forward(inputs)\n",
    "            self.output=inputs\n",
    "        return self.output\n",
    "       \n",
    "\n",
    "    def backward(self,derivee_output):\n",
    "      #assert derivee_output.shape==self.output.shape\n",
    "      for boite in reversed(self.suite):\n",
    "          derivee_output=boite.backward(derivee_output)\n",
    "      derivee_inputs=derivee_output\n",
    "      assert derivee_output.shape==derivee_inputs.shape\n",
    "      self.get_layer_gradients()\n",
    "      return derivee_inputs\n",
    "      \n",
    "\n",
    "    def get_layer_gradients(self):\n",
    "        for boite in self.suite:\n",
    "            if issubclass(boite.__class__, BoiteParams):\n",
    "                self.derivee_params.append(boite.derive_params)\n",
    "        return(boite)\n",
    "    \n",
    "\n",
    "    \"\"\"def update_params(self, learning_rate):\n",
    "        for param, derivee_param in zip(self.params, self.derivee_params):\n",
    "            param -= learning_rate * derivee_param\n",
    "        self.params=param\n",
    "        return self.params \"\"\"\n",
    "\n",
    "      \n",
    "    def __repr__(self):\n",
    "        r=f\"Dense Layer(neurons={self.neurons})\"\n",
    "        if self.activation:\n",
    "            r+=f\" Avec Sigmoid{self.initialisation}\"\n",
    "        return r\n"
   ]
  },
  {
   "cell_type": "markdown",
   "metadata": {},
   "source": [
    "Classe Modele()"
   ]
  },
  {
   "cell_type": "code",
   "execution_count": 104,
   "metadata": {},
   "outputs": [],
   "source": [
    "class Modele():\n",
    "    def __init__(self,layers):\n",
    "        self.layers=layers\n",
    "        \n",
    "    def forward(self,inputs):\n",
    "        for layer in self.layers:\n",
    "            inputs=layer.forward(inputs)    \n",
    "        self.output=inputs \n",
    "        return self.output\n",
    "    \n",
    "    def backward(self, loss_derivee):\n",
    "        for layer in reversed(self.layers):\n",
    "            loss_derivee = layer.backward(loss_derivee)\n",
    "        return loss_derivee\n",
    "\n",
    "    def get_params(self):\n",
    "        self.params=[]\n",
    "        for layer in self.layers:\n",
    "            self.params.append(layer.params)\n",
    "        return self.params\n",
    "    \n",
    "    def get_derivee_params(self):\n",
    "        self.derivee_params=[]\n",
    "        for layer in self.layers:\n",
    "            self.derivee_params.append(layer.derivee_params)\n",
    "        return self.derivee_params\n",
    "    \n",
    "    def update(self,learning_rate):\n",
    "        params = self.get_params()\n",
    "        derivee_params = self.get_derivee_params()\n",
    "\n",
    "        for layer_params, layer_derivee_params in zip(params, derivee_params):\n",
    "            for param, derivee_param in zip(layer_params, layer_derivee_params):\n",
    "                param -= learning_rate * derivee_param\n",
    "        return self.params\n",
    "    \n",
    "    def compile(self,learning_rate=0.01):\n",
    "        self.mse=Loss()\n",
    "        self.learning_rate=learning_rate\n",
    "        return self.mse\n",
    "    \n",
    "    def fit(self,X,Y,epochs:int):\n",
    "        self.Loss=[]\n",
    "        for i in range(epochs):\n",
    "            mse=self.compile()\n",
    "            P=self.forward(inputs=X)\n",
    "            loss=self.mse.forward(P,Y)\n",
    "            self.Loss.append(loss)\n",
    "            print(\"Epoch\",i+1,\"----------- Loss=\",loss)\n",
    "            loss_derivee=self.mse.backward()\n",
    "            self.backward(loss_derivee=loss_derivee)\n",
    "            self.update(learning_rate=self.learning_rate)\n",
    "        return self.Loss\n",
    "    \n",
    "    def learnig_curve(self):\n",
    "        plt.plot(self.Loss)\n",
    "\n",
    "\n",
    "    def __repr__(self):\n",
    "        r=\"Layers ...............\"\n",
    "        for layer in self.layers:   \n",
    "            r+=f\"\\n {str(layer)}\"\n",
    "        return r\n"
   ]
  },
  {
   "cell_type": "code",
   "execution_count": 105,
   "metadata": {},
   "outputs": [],
   "source": [
    "np.random.seed(42)\n",
    "X=np.random.randn(4,3)\n",
    "Y=np.random.randn(4,1)"
   ]
  },
  {
   "cell_type": "code",
   "execution_count": 106,
   "metadata": {},
   "outputs": [],
   "source": [
    "model=Modele([Dense(neurons=3,activation=Sigmoid()),Dense(1)])"
   ]
  },
  {
   "cell_type": "code",
   "execution_count": 107,
   "metadata": {},
   "outputs": [
    {
     "data": {
      "text/plain": [
       "<__main__.Loss at 0x1ca4686f2d0>"
      ]
     },
     "execution_count": 107,
     "metadata": {},
     "output_type": "execute_result"
    }
   ],
   "source": [
    "model.compile()"
   ]
  },
  {
   "cell_type": "code",
   "execution_count": 108,
   "metadata": {},
   "outputs": [
    {
     "name": "stdout",
     "output_type": "stream",
     "text": [
      "Epoch 1 ----------- Loss= 6.242609775094623\n",
      "Epoch 2 ----------- Loss= 5.065739119414946\n",
      "Epoch 3 ----------- Loss= 4.021504812707027\n",
      "Epoch 4 ----------- Loss= 3.1149029563139896\n",
      "Epoch 5 ----------- Loss= 2.351107807084233\n",
      "Epoch 6 ----------- Loss= 1.7354609465152544\n",
      "Epoch 7 ----------- Loss= 1.273457903371753\n",
      "Epoch 8 ----------- Loss= 0.9707322648286854\n",
      "Epoch 9 ----------- Loss= 0.8330373850723083\n",
      "Epoch 10 ----------- Loss= 0.8662258769069964\n"
     ]
    }
   ],
   "source": [
    "l=model.fit(X,Y,10)"
   ]
  },
  {
   "cell_type": "code",
   "execution_count": 109,
   "metadata": {},
   "outputs": [
    {
     "data": {
      "image/png": "[encoded data removed]",
      "text/plain": [
       "<Figure size 640x480 with 1 Axes>"
      ]
     },
     "metadata": {},
     "output_type": "display_data"
    }
   ],
   "source": [
    "model.learnig_curve()"
   ]
  },
  {
   "cell_type": "markdown",
   "metadata": {},
   "source": [
    "Test  sur un dataset"
   ]
  },
  {
   "cell_type": "code",
   "execution_count": 110,
   "metadata": {},
   "outputs": [],
   "source": [
    "from sklearn.datasets import load_iris\n",
    "dataset=load_iris()\n",
    "X=dataset.data\n",
    "y=dataset.target\n",
    "y=y.reshape(y.shape[0],1)"
   ]
  },
  {
   "cell_type": "code",
   "execution_count": 111,
   "metadata": {},
   "outputs": [],
   "source": [
    "model=Modele([Dense(neurons=7,activation=Sigmoid()),Dense(1,activation=Sigmoid())])"
   ]
  },
  {
   "cell_type": "code",
   "execution_count": 112,
   "metadata": {},
   "outputs": [
    {
     "data": {
      "text/plain": [
       "<__main__.Loss at 0x1ca469c40d0>"
      ]
     },
     "execution_count": 112,
     "metadata": {},
     "output_type": "execute_result"
    }
   ],
   "source": [
    "model.compile(learning_rate=0.00001)"
   ]
  },
  {
   "cell_type": "code",
   "execution_count": 113,
   "metadata": {},
   "outputs": [
    {
     "name": "stdout",
     "output_type": "stream",
     "text": [
      "Epoch 1 ----------- Loss= 1.2814551379921673\n",
      "Epoch 2 ----------- Loss= 0.6656245877874667\n",
      "Epoch 3 ----------- Loss= 0.6470467351023519\n",
      "Epoch 4 ----------- Loss= 0.6617665271037272\n",
      "Epoch 5 ----------- Loss= 0.6658329200639256\n",
      "Epoch 6 ----------- Loss= 0.6665444701537824\n",
      "Epoch 7 ----------- Loss= 0.6666498902356393\n",
      "Epoch 8 ----------- Loss= 0.666664407151859\n",
      "Epoch 9 ----------- Loss= 0.6666663583745123\n",
      "Epoch 10 ----------- Loss= 0.6666666229538962\n",
      "Epoch 11 ----------- Loss= 0.666666660097818\n",
      "Epoch 12 ----------- Loss= 0.6666666656093189\n",
      "Epoch 13 ----------- Loss= 0.6666666664845718\n",
      "Epoch 14 ----------- Loss= 0.6666666666334824\n",
      "Epoch 15 ----------- Loss= 0.6666666666603649\n",
      "Epoch 16 ----------- Loss= 0.6666666666654373\n",
      "Epoch 17 ----------- Loss= 0.666666666666423\n",
      "Epoch 18 ----------- Loss= 0.666666666666618\n",
      "Epoch 19 ----------- Loss= 0.666666666666657\n",
      "Epoch 20 ----------- Loss= 0.6666666666666646\n",
      "Epoch 21 ----------- Loss= 0.6666666666666664\n",
      "Epoch 22 ----------- Loss= 0.6666666666666665\n",
      "Epoch 23 ----------- Loss= 0.6666666666666666\n",
      "Epoch 24 ----------- Loss= 0.6666666666666666\n",
      "Epoch 25 ----------- Loss= 0.6666666666666666\n",
      "Epoch 26 ----------- Loss= 0.6666666666666666\n",
      "Epoch 27 ----------- Loss= 0.6666666666666666\n",
      "Epoch 28 ----------- Loss= 0.6666666666666666\n",
      "Epoch 29 ----------- Loss= 0.6666666666666666\n",
      "Epoch 30 ----------- Loss= 0.6666666666666666\n",
      "Epoch 31 ----------- Loss= 0.6666666666666666\n",
      "Epoch 32 ----------- Loss= 0.6666666666666666\n",
      "Epoch 33 ----------- Loss= 0.6666666666666666\n",
      "Epoch 34 ----------- Loss= 0.6666666666666666\n",
      "Epoch 35 ----------- Loss= 0.6666666666666666\n",
      "Epoch 36 ----------- Loss= 0.6666666666666666\n",
      "Epoch 37 ----------- Loss= 0.6666666666666666\n",
      "Epoch 38 ----------- Loss= 0.6666666666666666\n",
      "Epoch 39 ----------- Loss= 0.6666666666666666\n",
      "Epoch 40 ----------- Loss= 0.6666666666666666\n",
      "Epoch 41 ----------- Loss= 0.6666666666666666\n",
      "Epoch 42 ----------- Loss= 0.6666666666666666\n",
      "Epoch 43 ----------- Loss= 0.6666666666666666\n",
      "Epoch 44 ----------- Loss= 0.6666666666666666\n",
      "Epoch 45 ----------- Loss= 0.6666666666666666\n",
      "Epoch 46 ----------- Loss= 0.6666666666666666\n",
      "Epoch 47 ----------- Loss= 0.6666666666666666\n",
      "Epoch 48 ----------- Loss= 0.6666666666666666\n",
      "Epoch 49 ----------- Loss= 0.6666666666666666\n",
      "Epoch 50 ----------- Loss= 0.6666666666666666\n",
      "Epoch 51 ----------- Loss= 0.6666666666666666\n",
      "Epoch 52 ----------- Loss= 0.6666666666666666\n",
      "Epoch 53 ----------- Loss= 0.6666666666666666\n",
      "Epoch 54 ----------- Loss= 0.6666666666666666\n",
      "Epoch 55 ----------- Loss= 0.6666666666666666\n"
     ]
    }
   ],
   "source": [
    "l=model.fit(X,y,55)"
   ]
  },
  {
   "cell_type": "code",
   "execution_count": 114,
   "metadata": {},
   "outputs": [
    {
     "data": {
      "image/png": "[encoded data removed]",
      "text/plain": [
       "<Figure size 640x480 with 1 Axes>"
      ]
     },
     "metadata": {},
     "output_type": "display_data"
    }
   ],
   "source": [
    "model.learnig_curve()"
   ]
  }
 ],
 "metadata": {
  "kernelspec": {
   "display_name": "Python 3",
   "language": "python",
   "name": "python3"
  },
  "language_info": {
   "codemirror_mode": {
    "name": "ipython",
    "version": 3
   },
   "file_extension": ".py",
   "mimetype": "text/x-python",
   "name": "python",
   "nbconvert_exporter": "python",
   "pygments_lexer": "ipython3",
   "version": "3.11.8"
  }
 },
 "nbformat": 4,
 "nbformat_minor": 2
}

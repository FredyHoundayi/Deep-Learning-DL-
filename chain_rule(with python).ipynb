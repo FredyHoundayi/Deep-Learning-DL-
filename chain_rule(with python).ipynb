{
 "cells": [
  {
   "cell_type": "code",
   "execution_count": null,
   "metadata": {},
   "outputs": [],
   "source": [
    "def double(x):\n",
    "    return 2*x\n",
    "def carre(x):\n",
    "    return x**2\n",
    "def triple_carree(x):\n",
    "    return 3*x**2\n",
    "def compose(x):\n",
    "    temp=double(x)\n",
    "    return carre(temp)\n",
    "def compose1(x):\n",
    "    temp=compose(x)\n",
    "    return 3*temp**2\n"
   ]
  },
  {
   "cell_type": "code",
   "execution_count": null,
   "metadata": {},
   "outputs": [],
   "source": [
    "def derivee(fonction,point):\n",
    "    taux_variation=(-fonction(point)+fonction(point+0.00001))/(0.00001)\n",
    "    return taux_variation\n"
   ]
  },
  {
   "cell_type": "code",
   "execution_count": null,
   "metadata": {},
   "outputs": [],
   "source": [
    "derivee(compose,2)\n",
    "a=derivee(double,2)\n",
    "print(derivee(carre,double(2))*a)"
   ]
  },
  {
   "cell_type": "code",
   "execution_count": null,
   "metadata": {},
   "outputs": [],
   "source": [
    "derivee(compose1,3)\n"
   ]
  }
 ],
 "metadata": {
  "language_info": {
   "name": "python"
  }
 },
 "nbformat": 4,
 "nbformat_minor": 2
}
